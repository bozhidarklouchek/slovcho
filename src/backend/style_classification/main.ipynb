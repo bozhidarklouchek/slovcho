{
 "cells": [
  {
   "cell_type": "code",
   "execution_count": 6,
   "metadata": {},
   "outputs": [
    {
     "name": "stdout",
     "output_type": "stream",
     "text": [
      "INITIAL LOAD\n",
      "Number of documents: 19888\n"
     ]
    },
    {
     "data": {
      "image/png": "[encoded data removed]",
      "text/plain": [
       "<Figure size 432x288 with 1 Axes>"
      ]
     },
     "metadata": {
      "needs_background": "light"
     },
     "output_type": "display_data"
    }
   ],
   "source": [
    "import pandas as pd\n",
    "import re\n",
    "from numpy import NaN\n",
    "from stop_words import get_stop_words\n",
    "import logging\n",
    "import pandas as pd\n",
    "import numpy as np\n",
    "from numpy import random\n",
    "import nltk\n",
    "from sklearn.model_selection import train_test_split\n",
    "from sklearn.feature_extraction.text import CountVectorizer, TfidfVectorizer\n",
    "from sklearn.metrics import accuracy_score, confusion_matrix\n",
    "import matplotlib.pyplot as plt\n",
    "from nltk.corpus import stopwords\n",
    "import re\n",
    "from sklearn.naive_bayes import MultinomialNB\n",
    "from sklearn.pipeline import Pipeline\n",
    "from sklearn.feature_extraction.text import TfidfTransformer\n",
    "from sklearn.metrics import classification_report\n",
    "\n",
    "from joblib import dump, load\n",
    "\n",
    "PERCENT_VALID_CHARS_MIN = 0.95\n",
    "\n",
    "cwd = 'C:/Users/klouc/Desktop/slovcho/style_classification'\n",
    "df = pd.read_csv(rf\"{cwd}/styles.csv\",encoding='utf-8')\n",
    "\n",
    "df[\"class\"].value_counts().plot(kind='bar')\n",
    "\n",
    "# Initial data load\n",
    "print(\"INITIAL LOAD\")\n",
    "print(f\"Number of documents: {df['class'].count()}\")"
   ]
  },
  {
   "cell_type": "code",
   "execution_count": 2,
   "metadata": {},
   "outputs": [
    {
     "name": "stdout",
     "output_type": "stream",
     "text": [
      "DROPING EMPTY DOCUMENTS\n",
      "Number of documents: 19573\n",
      "Number of words: 27602510\n"
     ]
    }
   ],
   "source": [
    "# Drop rows with no content\n",
    "df.dropna(inplace=True)\n",
    "df.reset_index(inplace=True, drop=True)\n",
    "\n",
    "# After dropping empty documents\n",
    "print(\"DROPING EMPTY DOCUMENTS\")\n",
    "print(f\"Number of documents: {df['content'].count()}\")\n",
    "print(f\"Number of words: {df['content'].apply(lambda x: len(x.split(' '))).sum()}\")"
   ]
  },
  {
   "cell_type": "code",
   "execution_count": 3,
   "metadata": {},
   "outputs": [
    {
     "name": "stdout",
     "output_type": "stream",
     "text": [
      "PRE_PROCESSING DATA\n",
      "Number of documents: 19573\n",
      "Number of words: 13121413\n"
     ]
    }
   ],
   "source": [
    "def clean_document(document):\n",
    "    replace_with_space_chars = re.compile('[/(){}\\[\\]\\|@,;]')\n",
    "    # delete_chars = re.compile('[^0-9 #+_]')\n",
    "    \n",
    "    stop_words = ['а', 'автентичен', 'аз', 'ако', 'ала', 'бе', 'без', 'беше',\n",
    "                  'би', 'бивш', 'бивша', 'бившо', 'бил', 'била', 'били', 'било',\n",
    "                'благодаря', 'близо', 'бъдат', 'бъде', 'бяха', 'в', 'вас', 'ваш',\n",
    "                'ваша', 'вероятно', 'вече', 'взема', 'ви', 'вие', 'винаги', 'внимава',\n",
    "                'време', 'все', 'всеки', 'всички', 'всичко', 'всяка', 'във', 'въпреки',\n",
    "                'върху', 'г', 'ги', 'главен', 'главна', 'главно', 'глас', 'го',\n",
    "                'година', 'години', 'годишен', 'д', 'да', 'дали', 'два', 'двама',\n",
    "                'двамата', 'две', 'двете', 'ден', 'днес', 'дни', 'до', 'добра',\n",
    "                'добре', 'добро', 'добър', 'докато', 'докога', 'дори', 'досега',\n",
    "                'доста', 'друг', 'друга', 'други', 'е', 'евтин', 'едва', 'един',\n",
    "                'една', 'еднаква', 'еднакви', 'еднакъв', 'едно', 'екип', 'ето',\n",
    "                'живот', 'за', 'забавям', 'зад', 'заедно', 'заради', 'засега',\n",
    "                'заспал', 'затова', 'защо', 'защото', 'и', 'из', 'или', 'им',\n",
    "                'има', 'имат', 'иска', 'й', 'каза', 'как', 'каква', 'какво',\n",
    "                'както', 'какъв', 'като', 'кога', 'когато', 'което', 'които',\n",
    "                'кой', 'който', 'колко', 'която', 'къде', 'където', 'към',\n",
    "                'лесен', 'лесно', 'ли', 'лош', 'м', 'май', 'малко', 'ме',\n",
    "                'между', 'мек', 'мен', 'месец', 'ми', 'много', 'мнозина',\n",
    "                'мога', 'могат', 'може', 'мокър', 'моля', 'момента', 'му',\n",
    "                'н', 'на', 'над', 'назад', 'най', 'направи', 'напред', 'например',\n",
    "                'нас', 'не', 'него', 'нещо', 'нея', 'ни', 'ние', 'никой', 'нито',\n",
    "                'нищо', 'но', 'нов', 'нова', 'нови', 'новина', 'някои', 'някой',\n",
    "                'няколко', 'няма', 'обаче', 'около', 'освен', 'особено', 'от',\n",
    "                'отгоре', 'отново', 'още', 'пак', 'по', 'повече', 'повечето', 'под',\n",
    "                'поне', 'поради', 'после', 'почти', 'прави', 'пред', 'преди', 'през',\n",
    "                'при', 'пък', 'първата', 'първи', 'първо', 'пъти', 'равен', 'равна', 'с',\n",
    "                'са', 'сам', 'само', 'се', 'сега', 'си', 'син', 'скоро', 'след', 'следващ',\n",
    "                'сме', 'смях', 'според', 'сред', 'срещу', 'сте', 'съм', 'със', 'също', 'т',\n",
    "                'тази', 'така', 'такива', 'такъв', 'там', 'твой', 'те', 'тези', 'ти', 'т.н.',\n",
    "                'то', 'това', 'тогава', 'този', 'той', 'толкова', 'точно', 'три', 'трябва',\n",
    "                'тук', 'тъй', 'тя', 'тях', 'у', 'утре', 'харесва', 'хиляди', 'ч', 'часа',\n",
    "                'че', 'често', 'чрез', 'ще', 'щом', 'юмрук', 'я', 'як']\n",
    "\n",
    "    # Case fold\n",
    "    document = document.lower()\n",
    "\n",
    "    # Replace some chars with space\n",
    "    document = replace_with_space_chars.sub(' ', document)\n",
    "    # print(document)\n",
    "\n",
    "    # Remove some chars entirely\n",
    "    # document = delete_chars.sub('', document)\n",
    "\n",
    "    # Remove stop words\n",
    "    document = ' '.join(word for word in document.split() if word not in stop_words)\n",
    "\n",
    "    return document\n",
    "\n",
    "df[\"content\"] = df[\"content\"].apply(lambda x : clean_document(x))\n",
    "\n",
    "# After pre-processing\n",
    "print(\"PRE_PROCESSING DATA\")\n",
    "print(f\"Number of documents: {df['content'].count()}\")\n",
    "print(f\"Number of words: {df['content'].apply(lambda x: len(x.split(' '))).sum()}\")"
   ]
  },
  {
   "cell_type": "code",
   "execution_count": 4,
   "metadata": {},
   "outputs": [
    {
     "name": "stdout",
     "output_type": "stream",
     "text": [
      "['casual_real']\n"
     ]
    },
    {
     "data": {
      "text/plain": [
       "['style_classification.joblib']"
      ]
     },
     "execution_count": 4,
     "metadata": {},
     "output_type": "execute_result"
    }
   ],
   "source": [
    "# Tf-idf Representation w/ Multinomial Naive Bayes\n",
    "\n",
    "x = df[\"content\"]\n",
    "y = df[\"class\"]\n",
    "x_train, x_test, y_train, y_test = train_test_split(x, y, test_size=0.3, random_state = 42)\n",
    "\n",
    "naive_bayes = Pipeline([\n",
    "               ('vect', CountVectorizer()),\n",
    "               ('tfidf', TfidfTransformer()),\n",
    "               ('clf', MultinomialNB()),\n",
    "              ])\n",
    "naive_bayes.fit(x_train, y_train)\n",
    "\n",
    "print(naive_bayes.predict(['абе брат какво правиш ти въобще наред ли си']))\n",
    "\n",
    "dump(naive_bayes, 'style_classification.joblib')\n",
    "# y_pred = naive_bayes.predict(x_test)\n",
    "\n",
    "# print('accuracy %s' % accuracy_score(y_pred, y_test))\n",
    "# print(classification_report(y_test, y_pred,target_names=[\"academic_informal\", \"administrative\", \"casual_real\", \"creative\", \"news\"]))"
   ]
  },
  {
   "cell_type": "code",
   "execution_count": 7,
   "metadata": {},
   "outputs": [
    {
     "data": {
      "text/plain": [
       "array(['casual_real'], dtype='<U17')"
      ]
     },
     "execution_count": 7,
     "metadata": {},
     "output_type": "execute_result"
    }
   ],
   "source": [
    "def classify_style(text):\n",
    "    classifier = load('style_classification.joblib')\n",
    "    return classifier.predict([text])"
   ]
  }
 ],
 "metadata": {
  "kernelspec": {
   "display_name": "Python 3",
   "language": "python",
   "name": "python3"
  },
  "language_info": {
   "codemirror_mode": {
    "name": "ipython",
    "version": 3
   },
   "file_extension": ".py",
   "mimetype": "text/x-python",
   "name": "python",
   "nbconvert_exporter": "python",
   "pygments_lexer": "ipython3",
   "version": "3.9.13"
  }
 },
 "nbformat": 4,
 "nbformat_minor": 2
}
